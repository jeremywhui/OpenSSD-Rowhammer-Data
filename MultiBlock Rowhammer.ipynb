{
 "cells": [
  {
   "cell_type": "code",
   "execution_count": 2,
   "id": "a7cb1dbd",
   "metadata": {},
   "outputs": [],
   "source": [
    "import numpy as np\n",
    "import pandas as pd\n",
    "import matplotlib.pyplot as plt"
   ]
  },
  {
   "cell_type": "code",
   "execution_count": 3,
   "id": "5bee667b",
   "metadata": {},
   "outputs": [
    {
     "name": "stdout",
     "output_type": "stream",
     "text": [
      "[[0 0 0 ... 0 0 0]\n",
      " [0 0 0 ... 0 0 0]\n",
      " [0 0 0 ... 0 0 0]\n",
      " ...\n",
      " [0 0 0 ... 0 0 0]\n",
      " [0 0 0 ... 0 0 0]\n",
      " [0 0 0 ... 0 0 0]]\n",
      "(64, 256)\n"
     ]
    }
   ],
   "source": [
    "with open(\"multiBlock32.csv\", \"r\") as file:\n",
    "    multiBlock32 = pd.read_csv(\"multiBlock32.csv\", header = None)\n",
    "    multiBlock32.pop(258)\n",
    "    multiBlock32.pop(257)\n",
    "    multiBlock32.pop(0)\n",
    "    multiBlock32 = np.array(multiBlock32)\n",
    "print(multiBlock32)\n",
    "print(multiBlock32.shape)"
   ]
  },
  {
   "cell_type": "code",
   "execution_count": 4,
   "id": "c7b2b724",
   "metadata": {},
   "outputs": [
    {
     "name": "stdout",
     "output_type": "stream",
     "text": [
      "[[0. 0. 0. ... 0. 0. 0.]\n",
      " [0. 0. 0. ... 0. 0. 0.]\n",
      " [0. 0. 0. ... 0. 0. 0.]\n",
      " ...\n",
      " [0. 0. 0. ... 0. 0. 0.]\n",
      " [0. 0. 0. ... 0. 0. 0.]\n",
      " [0. 0. 0. ... 0. 0. 0.]]\n"
     ]
    }
   ],
   "source": [
    "errors = np.zeros((32, 256))\n",
    "print(errors)"
   ]
  },
  {
   "cell_type": "code",
   "execution_count": 5,
   "id": "f2ef254f",
   "metadata": {},
   "outputs": [
    {
     "name": "stdout",
     "output_type": "stream",
     "text": [
      "[[0. 0. 0. ... 0. 0. 0.]\n",
      " [0. 0. 0. ... 0. 0. 0.]\n",
      " [0. 0. 0. ... 0. 0. 0.]\n",
      " ...\n",
      " [0. 0. 0. ... 0. 0. 0.]\n",
      " [0. 0. 0. ... 0. 0. 0.]\n",
      " [0. 0. 0. ... 0. 0. 0.]]\n",
      "(array([ 61, 137, 153, 154, 169, 187, 188, 193, 194, 195, 209]),)\n"
     ]
    }
   ],
   "source": [
    "errors[0] = multiBlock32[1] - multiBlock32[0]\n",
    "print(errors)\n",
    "print(np.where(errors[0] != 0))"
   ]
  },
  {
   "cell_type": "code",
   "execution_count": 6,
   "id": "7fa374eb",
   "metadata": {},
   "outputs": [
    {
     "name": "stdout",
     "output_type": "stream",
     "text": [
      "[[0. 0. 0. ... 0. 0. 0.]\n",
      " [0. 0. 0. ... 0. 0. 0.]\n",
      " [0. 0. 0. ... 0. 0. 0.]\n",
      " ...\n",
      " [0. 0. 0. ... 0. 0. 0.]\n",
      " [0. 0. 0. ... 0. 0. 0.]\n",
      " [0. 0. 0. ... 0. 0. 0.]]\n",
      "(32, 256)\n"
     ]
    }
   ],
   "source": [
    "ind = 0\n",
    "for i in range(0, multiBlock32.shape[0], 2):\n",
    "    errors[ind] = multiBlock32[i+1]-multiBlock32[i]\n",
    "    ind += 1\n",
    "print(errors)\n",
    "print(errors.shape)"
   ]
  },
  {
   "cell_type": "code",
   "execution_count": 7,
   "id": "7567093f",
   "metadata": {},
   "outputs": [
    {
     "name": "stdout",
     "output_type": "stream",
     "text": [
      "(array([193, 209]),)\n",
      "(array([ 93, 130, 164, 169, 170, 172, 185, 193, 214, 230]),)\n",
      "(array([184, 207, 214, 218, 238, 242]),)\n",
      "(array([195]),)\n",
      "(array([145, 150]),)\n",
      "(array([], dtype=int64),)\n",
      "(array([148]),)\n",
      "(array([123, 175]),)\n",
      "(array([], dtype=int64),)\n",
      "(array([122]),)\n",
      "(array([177]),)\n",
      "(array([106, 145, 152, 154, 173, 187, 230, 235]),)\n",
      "(array([], dtype=int64),)\n",
      "(array([], dtype=int64),)\n",
      "(array([187]),)\n",
      "(array([], dtype=int64),)\n",
      "(array([154]),)\n",
      "(array([194]),)\n",
      "(array([164, 171]),)\n",
      "(array([ 42, 162, 186, 229]),)\n",
      "(array([ 90, 147, 171, 180, 194, 234]),)\n",
      "(array([188, 195, 207, 218, 234]),)\n",
      "(array([ 98, 172, 176, 238, 241]),)\n",
      "(array([173]),)\n",
      "(array([], dtype=int64),)\n",
      "(array([130, 198, 213]),)\n",
      "(array([], dtype=int64),)\n",
      "(array([153]),)\n",
      "(array([], dtype=int64),)\n",
      "(array([], dtype=int64),)\n",
      "(array([ 69,  78,  80,  91, 112, 128, 148, 157]),)\n",
      "(array([56]),)\n"
     ]
    }
   ],
   "source": [
    "for i in range(errors.shape[0]):\n",
    "    print(np.where(errors[i] >= 1))"
   ]
  },
  {
   "cell_type": "code",
   "execution_count": 8,
   "id": "321631c8",
   "metadata": {},
   "outputs": [
    {
     "name": "stdout",
     "output_type": "stream",
     "text": [
      "{0: array([193, 209]), 1: array([ 93, 130, 164, 169, 170, 172, 185, 193, 214, 230]), 2: array([184, 207, 214, 218, 238, 242]), 3: array([195]), 4: array([145, 150]), 5: array([], dtype=int64), 6: array([148]), 7: array([123, 175]), 8: array([], dtype=int64), 9: array([122]), 10: array([177]), 11: array([106, 145, 152, 154, 173, 187, 230, 235]), 12: array([], dtype=int64), 13: array([], dtype=int64), 14: array([187]), 15: array([], dtype=int64), 16: array([154]), 17: array([194]), 18: array([164, 171]), 19: array([ 42, 162, 186, 229]), 20: array([ 90, 147, 171, 180, 194, 234]), 21: array([188, 195, 207, 218, 234]), 22: array([ 98, 172, 176, 238, 241]), 23: array([173]), 24: array([], dtype=int64), 25: array([130, 198, 213]), 26: array([], dtype=int64), 27: array([153]), 28: array([], dtype=int64), 29: array([], dtype=int64), 30: array([ 69,  78,  80,  91, 112, 128, 148, 157]), 31: array([56])}\n"
     ]
    }
   ],
   "source": [
    "errorsDict = {}\n",
    "for i in range(errors.shape[0]):\n",
    "    errorsDict.update({i : (np.array(np.where(errors[i, :] >= 1))).flatten()})\n",
    "print(errorsDict)"
   ]
  },
  {
   "cell_type": "code",
   "execution_count": 9,
   "id": "85205550",
   "metadata": {},
   "outputs": [
    {
     "name": "stdout",
     "output_type": "stream",
     "text": [
      "[ 2. 10.  6.  1.  2.  0.  1.  2.  0.  1.  1.  8.  0.  0.  1.  0.  1.  1.\n",
      "  2.  4.  6.  5.  5.  1.  0.  3.  0.  1.  0.  0.  8.  1.]\n"
     ]
    }
   ],
   "source": [
    "errorNums = np.zeros(len(errorsDict.keys()))\n",
    "for i in range(len(errorsDict.keys())):\n",
    "    errorNums[i] = errorsDict[i].shape[0]\n",
    "print(errorNums)"
   ]
  },
  {
   "cell_type": "code",
   "execution_count": 10,
   "id": "ed6563ff",
   "metadata": {},
   "outputs": [
    {
     "data": {
      "image/png": "[encoded data removed]",
      "text/plain": [
       "<Figure size 720x360 with 1 Axes>"
      ]
     },
     "metadata": {
      "needs_background": "light"
     },
     "output_type": "display_data"
    }
   ],
   "source": [
    "fig = plt.figure(figsize = (10, 5))\n",
    "plt.bar(errorsDict.keys(), errorNums)\n",
    "plt.title(\"Number of Induced Flips by Hammering\")\n",
    "plt.xlabel(\"Hammered Page\")\n",
    "plt.ylabel(\"Number of Induced Flips\")\n",
    "plt.show()"
   ]
  },
  {
   "cell_type": "code",
   "execution_count": 11,
   "id": "411ba17b",
   "metadata": {},
   "outputs": [
    {
     "data": {
      "image/png": "[encoded data removed]",
      "text/plain": [
       "<Figure size 432x288 with 1 Axes>"
      ]
     },
     "metadata": {
      "needs_background": "light"
     },
     "output_type": "display_data"
    }
   ],
   "source": [
    "pointsList = []\n",
    "for i in range(len(errorsDict.keys())):\n",
    "    for j in range(errorsDict[i].shape[0]):\n",
    "        pointsList.append((i, errorsDict[i][j]))\n",
    "#print(pointsList)\n",
    "x,y = zip(*pointsList)\n",
    "plt.scatter(x, y)\n",
    "plt.title(\"Page with Induced Flip vs. Hammered Page\")\n",
    "plt.xlabel(\"Hammered Page\")\n",
    "plt.ylabel(\"Page with Induced Flip\")\n",
    "plt.show()"
   ]
  },
  {
   "cell_type": "code",
   "execution_count": 12,
   "id": "0cd4512e",
   "metadata": {},
   "outputs": [
    {
     "name": "stdout",
     "output_type": "stream",
     "text": [
      "[[0 0 0 ... 0 0 0]\n",
      " [0 0 0 ... 0 0 0]\n",
      " [0 0 0 ... 0 0 0]\n",
      " ...\n",
      " [0 0 0 ... 0 0 0]\n",
      " [0 0 0 ... 0 0 0]\n",
      " [0 0 0 ... 0 0 0]]\n",
      "(512, 256)\n"
     ]
    }
   ],
   "source": [
    "with open(\"multiBlock256.csv\", \"r\") as file:\n",
    "    multiBlock256 = pd.read_csv(\"multiBlock256.csv\", header = None)\n",
    "    multiBlock256.pop(258)\n",
    "    multiBlock256.pop(257)\n",
    "    multiBlock256.pop(0)\n",
    "    multiBlock256 = np.array(multiBlock256)\n",
    "print(multiBlock256)\n",
    "print(multiBlock256.shape)"
   ]
  },
  {
   "cell_type": "code",
   "execution_count": 13,
   "id": "b932200b",
   "metadata": {},
   "outputs": [
    {
     "name": "stdout",
     "output_type": "stream",
     "text": [
      "[[0. 0. 0. ... 0. 0. 0.]\n",
      " [0. 0. 0. ... 0. 0. 0.]\n",
      " [0. 0. 0. ... 0. 0. 0.]\n",
      " ...\n",
      " [0. 0. 0. ... 0. 0. 0.]\n",
      " [0. 0. 0. ... 0. 0. 0.]\n",
      " [0. 0. 0. ... 0. 0. 0.]]\n",
      "(256, 256)\n"
     ]
    }
   ],
   "source": [
    "errors256 = np.zeros((256, 256))\n",
    "ind = 0\n",
    "for i in range(0, multiBlock256.shape[0], 2):\n",
    "    errors256[ind] = multiBlock256[i+1]-multiBlock256[i]\n",
    "    ind += 1\n",
    "print(errors256)\n",
    "print(errors256.shape)"
   ]
  },
  {
   "cell_type": "code",
   "execution_count": 14,
   "id": "c9d5ad43",
   "metadata": {},
   "outputs": [
    {
     "name": "stdout",
     "output_type": "stream",
     "text": [
      "{0: array([137, 164]), 1: array([140, 149]), 2: array([158]), 3: array([252]), 4: array([108]), 5: array([ 86, 103, 170]), 6: array([142, 170, 172, 173, 206, 246]), 7: array([194]), 8: array([], dtype=int64), 9: array([ 86,  97, 122, 185, 238]), 10: array([ 21,  73,  96, 127, 131, 184, 206, 237]), 11: array([ 79,  92, 106, 155, 181, 236, 244]), 12: array([111, 125, 173, 174, 202, 244]), 13: array([116, 156]), 14: array([97]), 15: array([], dtype=int64), 16: array([101]), 17: array([131]), 18: array([ 67, 139]), 19: array([236]), 20: array([106, 170, 184, 196, 215]), 21: array([169, 238]), 22: array([144, 164, 170, 187, 199]), 23: array([], dtype=int64), 24: array([113, 147, 148, 170, 181, 185]), 25: array([110, 125, 186, 210]), 26: array([117]), 27: array([115]), 28: array([186, 235]), 29: array([235]), 30: array([ 82,  90, 117, 120, 132, 178]), 31: array([86]), 32: array([], dtype=int64), 33: array([], dtype=int64), 34: array([76]), 35: array([], dtype=int64), 36: array([], dtype=int64), 37: array([], dtype=int64), 38: array([222]), 39: array([], dtype=int64), 40: array([141, 212]), 41: array([], dtype=int64), 42: array([233]), 43: array([], dtype=int64), 44: array([153]), 45: array([83]), 46: array([], dtype=int64), 47: array([], dtype=int64), 48: array([202]), 49: array([91]), 50: array([], dtype=int64), 51: array([172, 181]), 52: array([], dtype=int64), 53: array([174]), 54: array([90]), 55: array([], dtype=int64), 56: array([], dtype=int64), 57: array([], dtype=int64), 58: array([ 37, 184]), 59: array([175]), 60: array([118]), 61: array([], dtype=int64), 62: array([], dtype=int64), 63: array([], dtype=int64), 64: array([199]), 65: array([], dtype=int64), 66: array([179, 182, 201]), 67: array([191, 206]), 68: array([], dtype=int64), 69: array([ 28, 178]), 70: array([114]), 71: array([], dtype=int64), 72: array([235]), 73: array([], dtype=int64), 74: array([247]), 75: array([], dtype=int64), 76: array([110]), 77: array([171]), 78: array([237]), 79: array([], dtype=int64), 80: array([], dtype=int64), 81: array([125]), 82: array([], dtype=int64), 83: array([], dtype=int64), 84: array([245]), 85: array([], dtype=int64), 86: array([], dtype=int64), 87: array([], dtype=int64), 88: array([], dtype=int64), 89: array([], dtype=int64), 90: array([], dtype=int64), 91: array([173, 236]), 92: array([], dtype=int64), 93: array([], dtype=int64), 94: array([], dtype=int64), 95: array([], dtype=int64), 96: array([151, 180]), 97: array([], dtype=int64), 98: array([220]), 99: array([], dtype=int64), 100: array([190]), 101: array([157]), 102: array([190]), 103: array([123]), 104: array([], dtype=int64), 105: array([], dtype=int64), 106: array([111]), 107: array([], dtype=int64), 108: array([], dtype=int64), 109: array([122]), 110: array([], dtype=int64), 111: array([], dtype=int64), 112: array([], dtype=int64), 113: array([], dtype=int64), 114: array([108]), 115: array([], dtype=int64), 116: array([], dtype=int64), 117: array([], dtype=int64), 118: array([], dtype=int64), 119: array([], dtype=int64), 120: array([], dtype=int64), 121: array([172, 194]), 122: array([115, 116, 132, 168, 204]), 123: array([246]), 124: array([], dtype=int64), 125: array([], dtype=int64), 126: array([], dtype=int64), 127: array([], dtype=int64), 128: array([140]), 129: array([115]), 130: array([], dtype=int64), 131: array([], dtype=int64), 132: array([], dtype=int64), 133: array([], dtype=int64), 134: array([183]), 135: array([], dtype=int64), 136: array([], dtype=int64), 137: array([], dtype=int64), 138: array([ 86, 228]), 139: array([], dtype=int64), 140: array([], dtype=int64), 141: array([173, 213]), 142: array([], dtype=int64), 143: array([128]), 144: array([], dtype=int64), 145: array([], dtype=int64), 146: array([], dtype=int64), 147: array([], dtype=int64), 148: array([ 86, 106]), 149: array([], dtype=int64), 150: array([178, 237]), 151: array([187, 211]), 152: array([93]), 153: array([], dtype=int64), 154: array([], dtype=int64), 155: array([], dtype=int64), 156: array([], dtype=int64), 157: array([], dtype=int64), 158: array([ 75, 239]), 159: array([], dtype=int64), 160: array([231]), 161: array([123]), 162: array([ 99, 221]), 163: array([], dtype=int64), 164: array([92]), 165: array([235]), 166: array([235]), 167: array([], dtype=int64), 168: array([], dtype=int64), 169: array([], dtype=int64), 170: array([], dtype=int64), 171: array([], dtype=int64), 172: array([], dtype=int64), 173: array([], dtype=int64), 174: array([], dtype=int64), 175: array([], dtype=int64), 176: array([], dtype=int64), 177: array([], dtype=int64), 178: array([], dtype=int64), 179: array([], dtype=int64), 180: array([181]), 181: array([], dtype=int64), 182: array([], dtype=int64), 183: array([], dtype=int64), 184: array([117, 186]), 185: array([109]), 186: array([], dtype=int64), 187: array([], dtype=int64), 188: array([], dtype=int64), 189: array([], dtype=int64), 190: array([197]), 191: array([], dtype=int64), 192: array([245]), 193: array([185]), 194: array([], dtype=int64), 195: array([], dtype=int64), 196: array([188, 242]), 197: array([], dtype=int64), 198: array([107]), 199: array([], dtype=int64), 200: array([], dtype=int64), 201: array([], dtype=int64), 202: array([ 94, 240]), 203: array([181]), 204: array([182]), 205: array([174]), 206: array([], dtype=int64), 207: array([87]), 208: array([162, 168, 196]), 209: array([], dtype=int64), 210: array([ 98, 165]), 211: array([], dtype=int64), 212: array([85]), 213: array([241]), 214: array([165, 233]), 215: array([], dtype=int64), 216: array([], dtype=int64), 217: array([], dtype=int64), 218: array([], dtype=int64), 219: array([], dtype=int64), 220: array([ 94, 235]), 221: array([], dtype=int64), 222: array([170]), 223: array([96]), 224: array([195]), 225: array([100, 202]), 226: array([], dtype=int64), 227: array([83]), 228: array([], dtype=int64), 229: array([115]), 230: array([], dtype=int64), 231: array([], dtype=int64), 232: array([233]), 233: array([], dtype=int64), 234: array([115]), 235: array([], dtype=int64), 236: array([], dtype=int64), 237: array([235]), 238: array([], dtype=int64), 239: array([], dtype=int64), 240: array([202, 233]), 241: array([], dtype=int64), 242: array([178, 236]), 243: array([180]), 244: array([198]), 245: array([242]), 246: array([101]), 247: array([191]), 248: array([245]), 249: array([], dtype=int64), 250: array([], dtype=int64), 251: array([], dtype=int64), 252: array([], dtype=int64), 253: array([], dtype=int64), 254: array([233]), 255: array([175])}\n"
     ]
    }
   ],
   "source": [
    "errors256Dict = {}\n",
    "for i in range(errors256.shape[0]):\n",
    "    errors256Dict.update({i : (np.array(np.where(errors256[i, :] >= 1))).flatten()})\n",
    "print(errors256Dict)"
   ]
  },
  {
   "cell_type": "code",
   "execution_count": 15,
   "id": "1234c93f",
   "metadata": {},
   "outputs": [
    {
     "name": "stdout",
     "output_type": "stream",
     "text": [
      "[2. 2. 1. 1. 1. 3. 6. 1. 0. 5. 8. 7. 6. 2. 1. 0. 1. 1. 2. 1. 5. 2. 5. 0.\n",
      " 6. 4. 1. 1. 2. 1. 6. 1. 0. 0. 1. 0. 0. 0. 1. 0. 2. 0. 1. 0. 1. 1. 0. 0.\n",
      " 1. 1. 0. 2. 0. 1. 1. 0. 0. 0. 2. 1. 1. 0. 0. 0. 1. 0. 3. 2. 0. 2. 1. 0.\n",
      " 1. 0. 1. 0. 1. 1. 1. 0. 0. 1. 0. 0. 1. 0. 0. 0. 0. 0. 0. 2. 0. 0. 0. 0.\n",
      " 2. 0. 1. 0. 1. 1. 1. 1. 0. 0. 1. 0. 0. 1. 0. 0. 0. 0. 1. 0. 0. 0. 0. 0.\n",
      " 0. 2. 5. 1. 0. 0. 0. 0. 1. 1. 0. 0. 0. 0. 1. 0. 0. 0. 2. 0. 0. 2. 0. 1.\n",
      " 0. 0. 0. 0. 2. 0. 2. 2. 1. 0. 0. 0. 0. 0. 2. 0. 1. 1. 2. 0. 1. 1. 1. 0.\n",
      " 0. 0. 0. 0. 0. 0. 0. 0. 0. 0. 0. 0. 1. 0. 0. 0. 2. 1. 0. 0. 0. 0. 1. 0.\n",
      " 1. 1. 0. 0. 2. 0. 1. 0. 0. 0. 2. 1. 1. 1. 0. 1. 3. 0. 2. 0. 1. 1. 2. 0.\n",
      " 0. 0. 0. 0. 2. 0. 1. 1. 1. 2. 0. 1. 0. 1. 0. 0. 1. 0. 1. 0. 0. 1. 0. 0.\n",
      " 2. 0. 2. 1. 1. 1. 1. 1. 1. 0. 0. 0. 0. 0. 1. 1.]\n"
     ]
    }
   ],
   "source": [
    "error256Nums = np.zeros(len(errors256Dict.keys()))\n",
    "for i in range(len(errors256Dict.keys())):\n",
    "    error256Nums[i] = errors256Dict[i].shape[0]\n",
    "print(error256Nums)"
   ]
  },
  {
   "cell_type": "code",
   "execution_count": 16,
   "id": "1ef86d44",
   "metadata": {},
   "outputs": [
    {
     "data": {
      "image/png": "[encoded data removed]",
      "text/plain": [
       "<Figure size 720x360 with 1 Axes>"
      ]
     },
     "metadata": {
      "needs_background": "light"
     },
     "output_type": "display_data"
    }
   ],
   "source": [
    "fig = plt.figure(figsize = (10, 5))\n",
    "plt.bar(errors256Dict.keys(), error256Nums)\n",
    "plt.title(\"Number of Induced Flips by Hammering\")\n",
    "plt.xlabel(\"Hammered Page\")\n",
    "plt.ylabel(\"Number of Induced Flips\")\n",
    "plt.show()"
   ]
  },
  {
   "cell_type": "code",
   "execution_count": 17,
   "id": "1c7c870e",
   "metadata": {},
   "outputs": [
    {
     "data": {
      "image/png": "[encoded data removed]",
      "text/plain": [
       "<Figure size 432x288 with 1 Axes>"
      ]
     },
     "metadata": {
      "needs_background": "light"
     },
     "output_type": "display_data"
    }
   ],
   "source": [
    "pointsList256 = []\n",
    "for i in range(len(errors256Dict.keys())):\n",
    "    for j in range(errors256Dict[i].shape[0]):\n",
    "        pointsList256.append((i, errors256Dict[i][j]))\n",
    "#print(pointsList)\n",
    "x,y = zip(*pointsList256)\n",
    "plt.scatter(x, y)\n",
    "plt.title(\"Page with Induced Flip vs. Hammered Page\")\n",
    "plt.xlabel(\"Hammered Page\")\n",
    "plt.ylabel(\"Page with Induced Flip\")\n",
    "plt.show()"
   ]
  },
  {
   "cell_type": "code",
   "execution_count": 19,
   "id": "8b716a01",
   "metadata": {},
   "outputs": [],
   "source": [
    "with open(\"multiBlock256Control.csv\", \"r\") as file:\n",
    "    multiBlock256C = pd.read_csv(\"multiBlock256Control.csv\", header = None)\n",
    "    multiBlock256C.pop(258)\n",
    "    multiBlock256C.pop(257)\n",
    "    multiBlock256C.pop(0)\n",
    "    multiBlock256C = np.array(multiBlock256C)"
   ]
  },
  {
   "cell_type": "code",
   "execution_count": 21,
   "id": "719a0ae4",
   "metadata": {},
   "outputs": [],
   "source": [
    "errors256C = np.zeros((256, 256))\n",
    "ind = 0\n",
    "for i in range(0, multiBlock256C.shape[0], 2):\n",
    "    errors256C[ind] = multiBlock256C[i+1]-multiBlock256C[i]\n",
    "    ind += 1"
   ]
  },
  {
   "cell_type": "code",
   "execution_count": 22,
   "id": "52cc399e",
   "metadata": {},
   "outputs": [],
   "source": [
    "errors256CDict = {}\n",
    "for i in range(errors256C.shape[0]):\n",
    "    errors256CDict.update({i : (np.array(np.where(errors256C[i, :] >= 1))).flatten()})"
   ]
  },
  {
   "cell_type": "code",
   "execution_count": 23,
   "id": "1c58788c",
   "metadata": {},
   "outputs": [],
   "source": [
    "error256CNums = np.zeros(len(errors256CDict.keys()))\n",
    "for i in range(len(errors256CDict.keys())):\n",
    "    error256CNums[i] = errors256CDict[i].shape[0]"
   ]
  },
  {
   "cell_type": "code",
   "execution_count": 25,
   "id": "f133851e",
   "metadata": {},
   "outputs": [
    {
     "data": {
      "image/png": "[encoded data removed]",
      "text/plain": [
       "<Figure size 720x360 with 1 Axes>"
      ]
     },
     "metadata": {
      "needs_background": "light"
     },
     "output_type": "display_data"
    }
   ],
   "source": [
    "fig = plt.figure(figsize = (10, 5))\n",
    "plt.bar(errors256CDict.keys(), error256CNums)\n",
    "plt.title(\"Number of Induced Flips by Hammering\")\n",
    "plt.xlabel(\"Hammered Page\")\n",
    "plt.ylabel(\"Number of Induced Flips\")\n",
    "plt.show()"
   ]
  },
  {
   "cell_type": "code",
   "execution_count": 26,
   "id": "e34d5b52",
   "metadata": {},
   "outputs": [
    {
     "data": {
      "image/png": "[encoded data removed]",
      "text/plain": [
       "<Figure size 432x288 with 1 Axes>"
      ]
     },
     "metadata": {
      "needs_background": "light"
     },
     "output_type": "display_data"
    }
   ],
   "source": [
    "pointsList256C = []\n",
    "for i in range(len(errors256CDict.keys())):\n",
    "    for j in range(errors256CDict[i].shape[0]):\n",
    "        pointsList256C.append((i, errors256CDict[i][j]))\n",
    "#print(pointsList)\n",
    "x,y = zip(*pointsList256C)\n",
    "plt.scatter(x, y)\n",
    "plt.title(\"Page with Induced Flip vs. Hammered Page\")\n",
    "plt.xlabel(\"Hammered Page\")\n",
    "plt.ylabel(\"Page with Induced Flip\")\n",
    "plt.show()"
   ]
  }
 ],
 "metadata": {
  "kernelspec": {
   "display_name": "Python 3 (ipykernel)",
   "language": "python",
   "name": "python3"
  },
  "language_info": {
   "codemirror_mode": {
    "name": "ipython",
    "version": 3
   },
   "file_extension": ".py",
   "mimetype": "text/x-python",
   "name": "python",
   "nbconvert_exporter": "python",
   "pygments_lexer": "ipython3",
   "version": "3.10.12"
  }
 },
 "nbformat": 4,
 "nbformat_minor": 5
}
