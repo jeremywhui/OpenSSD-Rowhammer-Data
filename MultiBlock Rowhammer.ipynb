{
 "cells": [
  {
   "cell_type": "code",
   "execution_count": 30,
   "id": "a7cb1dbd",
   "metadata": {},
   "outputs": [],
   "source": [
    "import numpy as np\n",
    "import pandas as pd\n",
    "import matplotlib.pyplot as plt"
   ]
  },
  {
   "cell_type": "code",
   "execution_count": 9,
   "id": "5bee667b",
   "metadata": {},
   "outputs": [
    {
     "name": "stdout",
     "output_type": "stream",
     "text": [
      "[[0 0 0 ... 0 0 0]\n",
      " [0 0 0 ... 0 0 0]\n",
      " [0 0 0 ... 0 0 0]\n",
      " ...\n",
      " [0 0 0 ... 0 0 0]\n",
      " [0 0 0 ... 0 0 0]\n",
      " [0 0 0 ... 0 0 0]]\n",
      "(64, 256)\n"
     ]
    }
   ],
   "source": [
    "with open(\"multiBlock32.csv\", \"r\") as file:\n",
    "    multiBlock32 = pd.read_csv(\"multiBlock32.csv\", header = None)\n",
    "    multiBlock32.pop(258)\n",
    "    multiBlock32.pop(257)\n",
    "    multiBlock32.pop(0)\n",
    "    multiBlock32 = np.array(multiBlock32)\n",
    "print(multiBlock32)\n",
    "print(multiBlock32.shape)"
   ]
  },
  {
   "cell_type": "code",
   "execution_count": 12,
   "id": "c7b2b724",
   "metadata": {},
   "outputs": [
    {
     "name": "stdout",
     "output_type": "stream",
     "text": [
      "[[0. 0. 0. ... 0. 0. 0.]\n",
      " [0. 0. 0. ... 0. 0. 0.]\n",
      " [0. 0. 0. ... 0. 0. 0.]\n",
      " ...\n",
      " [0. 0. 0. ... 0. 0. 0.]\n",
      " [0. 0. 0. ... 0. 0. 0.]\n",
      " [0. 0. 0. ... 0. 0. 0.]]\n"
     ]
    }
   ],
   "source": [
    "errors = np.zeros((32, 256))\n",
    "print(errors)"
   ]
  },
  {
   "cell_type": "code",
   "execution_count": 20,
   "id": "f2ef254f",
   "metadata": {},
   "outputs": [
    {
     "name": "stdout",
     "output_type": "stream",
     "text": [
      "[[0. 0. 0. ... 0. 0. 0.]\n",
      " [0. 0. 0. ... 0. 0. 0.]\n",
      " [0. 0. 0. ... 0. 0. 0.]\n",
      " ...\n",
      " [0. 0. 0. ... 0. 0. 0.]\n",
      " [0. 0. 0. ... 0. 0. 0.]\n",
      " [0. 0. 0. ... 0. 0. 0.]]\n",
      "(array([ 61, 137, 153, 154, 169, 187, 188, 193, 194, 195, 209], dtype=int64),)\n"
     ]
    }
   ],
   "source": [
    "errors[0] = multiBlock32[1] - multiBlock32[0]\n",
    "print(errors)\n",
    "print(np.where(errors[0] != 0))"
   ]
  },
  {
   "cell_type": "code",
   "execution_count": 24,
   "id": "7fa374eb",
   "metadata": {},
   "outputs": [
    {
     "name": "stdout",
     "output_type": "stream",
     "text": [
      "[[0. 0. 0. ... 0. 0. 0.]\n",
      " [0. 0. 0. ... 0. 0. 0.]\n",
      " [0. 0. 0. ... 0. 0. 0.]\n",
      " ...\n",
      " [0. 0. 0. ... 0. 0. 0.]\n",
      " [0. 0. 0. ... 0. 0. 0.]\n",
      " [0. 0. 0. ... 0. 0. 0.]]\n",
      "(32, 256)\n"
     ]
    }
   ],
   "source": [
    "ind = 0\n",
    "for i in range(0, multiBlock32.shape[0], 2):\n",
    "    errors[ind] = multiBlock32[i+1]-multiBlock32[i]\n",
    "    ind += 1\n",
    "print(errors)\n",
    "print(errors.shape)"
   ]
  },
  {
   "cell_type": "code",
   "execution_count": 28,
   "id": "7567093f",
   "metadata": {},
   "outputs": [
    {
     "name": "stdout",
     "output_type": "stream",
     "text": [
      "(array([193, 209], dtype=int64),)\n",
      "(array([ 93, 130, 164, 169, 170, 172, 185, 193, 214, 230], dtype=int64),)\n",
      "(array([184, 207, 214, 218, 238, 242], dtype=int64),)\n",
      "(array([195], dtype=int64),)\n",
      "(array([145, 150], dtype=int64),)\n",
      "(array([], dtype=int64),)\n",
      "(array([148], dtype=int64),)\n",
      "(array([123, 175], dtype=int64),)\n",
      "(array([], dtype=int64),)\n",
      "(array([122], dtype=int64),)\n",
      "(array([177], dtype=int64),)\n",
      "(array([106, 145, 152, 154, 173, 187, 230, 235], dtype=int64),)\n",
      "(array([], dtype=int64),)\n",
      "(array([], dtype=int64),)\n",
      "(array([187], dtype=int64),)\n",
      "(array([], dtype=int64),)\n",
      "(array([154], dtype=int64),)\n",
      "(array([194], dtype=int64),)\n",
      "(array([164, 171], dtype=int64),)\n",
      "(array([ 42, 162, 186, 229], dtype=int64),)\n",
      "(array([ 90, 147, 171, 180, 194, 234], dtype=int64),)\n",
      "(array([188, 195, 207, 218, 234], dtype=int64),)\n",
      "(array([ 98, 172, 176, 238, 241], dtype=int64),)\n",
      "(array([173], dtype=int64),)\n",
      "(array([], dtype=int64),)\n",
      "(array([130, 198, 213], dtype=int64),)\n",
      "(array([], dtype=int64),)\n",
      "(array([153], dtype=int64),)\n",
      "(array([], dtype=int64),)\n",
      "(array([], dtype=int64),)\n",
      "(array([ 69,  78,  80,  91, 112, 128, 148, 157], dtype=int64),)\n",
      "(array([56], dtype=int64),)\n"
     ]
    }
   ],
   "source": [
    "for i in range(errors.shape[0]):\n",
    "    print(np.where(errors[i] >= 1))"
   ]
  },
  {
   "cell_type": "code",
   "execution_count": 29,
   "id": "321631c8",
   "metadata": {},
   "outputs": [
    {
     "name": "stdout",
     "output_type": "stream",
     "text": [
      "{0: array([193, 209], dtype=int64), 1: array([ 93, 130, 164, 169, 170, 172, 185, 193, 214, 230], dtype=int64), 2: array([184, 207, 214, 218, 238, 242], dtype=int64), 3: array([195], dtype=int64), 4: array([145, 150], dtype=int64), 5: array([], dtype=int64), 6: array([148], dtype=int64), 7: array([123, 175], dtype=int64), 8: array([], dtype=int64), 9: array([122], dtype=int64), 10: array([177], dtype=int64), 11: array([106, 145, 152, 154, 173, 187, 230, 235], dtype=int64), 12: array([], dtype=int64), 13: array([], dtype=int64), 14: array([187], dtype=int64), 15: array([], dtype=int64), 16: array([154], dtype=int64), 17: array([194], dtype=int64), 18: array([164, 171], dtype=int64), 19: array([ 42, 162, 186, 229], dtype=int64), 20: array([ 90, 147, 171, 180, 194, 234], dtype=int64), 21: array([188, 195, 207, 218, 234], dtype=int64), 22: array([ 98, 172, 176, 238, 241], dtype=int64), 23: array([173], dtype=int64), 24: array([], dtype=int64), 25: array([130, 198, 213], dtype=int64), 26: array([], dtype=int64), 27: array([153], dtype=int64), 28: array([], dtype=int64), 29: array([], dtype=int64), 30: array([ 69,  78,  80,  91, 112, 128, 148, 157], dtype=int64), 31: array([56], dtype=int64)}\n"
     ]
    }
   ],
   "source": [
    "errorsDict = {}\n",
    "for i in range(errors.shape[0]):\n",
    "    errorsDict.update({i : (np.array(np.where(errors[i, :] >= 1))).flatten()})\n",
    "print(errorsDict)"
   ]
  },
  {
   "cell_type": "code",
   "execution_count": 37,
   "id": "85205550",
   "metadata": {},
   "outputs": [
    {
     "name": "stdout",
     "output_type": "stream",
     "text": [
      "[ 2. 10.  6.  1.  2.  0.  1.  2.  0.  1.  1.  8.  0.  0.  1.  0.  1.  1.\n",
      "  2.  4.  6.  5.  5.  1.  0.  3.  0.  1.  0.  0.  8.  1.]\n"
     ]
    }
   ],
   "source": [
    "errorNums = np.zeros(len(errorsDict.keys()))\n",
    "for i in range(len(errorsDict.keys())):\n",
    "    errorNums[i] = errorsDict[i].shape[0]\n",
    "print(errorNums)"
   ]
  },
  {
   "cell_type": "code",
   "execution_count": 39,
   "id": "ed6563ff",
   "metadata": {},
   "outputs": [
    {
     "data": {
      "image/png": "[encoded data removed]",
      "text/plain": [
       "<Figure size 720x360 with 1 Axes>"
      ]
     },
     "metadata": {
      "needs_background": "light"
     },
     "output_type": "display_data"
    }
   ],
   "source": [
    "fig = plt.figure(figsize = (10, 5))\n",
    "plt.bar(errorsDict.keys(), errorNums)\n",
    "plt.title(\"Number of Induced Flips by Hammering\")\n",
    "plt.xlabel(\"Hammered Page\")\n",
    "plt.ylabel(\"Number of Induced Flips\")\n",
    "plt.show()"
   ]
  },
  {
   "cell_type": "code",
   "execution_count": null,
   "id": "411ba17b",
   "metadata": {},
   "outputs": [],
   "source": []
  }
 ],
 "metadata": {
  "kernelspec": {
   "display_name": "Python 3 (ipykernel)",
   "language": "python",
   "name": "python3"
  },
  "language_info": {
   "codemirror_mode": {
    "name": "ipython",
    "version": 3
   },
   "file_extension": ".py",
   "mimetype": "text/x-python",
   "name": "python",
   "nbconvert_exporter": "python",
   "pygments_lexer": "ipython3",
   "version": "3.9.12"
  }
 },
 "nbformat": 4,
 "nbformat_minor": 5
}
