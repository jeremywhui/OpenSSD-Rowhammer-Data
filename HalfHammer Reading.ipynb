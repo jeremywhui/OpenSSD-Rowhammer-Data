{
 "cells": [
  {
   "cell_type": "code",
   "execution_count": 1,
   "id": "4681171e",
   "metadata": {},
   "outputs": [],
   "source": [
    "import numpy as np\n",
    "import matplotlib.pyplot as plt\n",
    "import pandas as pd"
   ]
  },
  {
   "cell_type": "code",
   "execution_count": 7,
   "id": "0b270eb2",
   "metadata": {},
   "outputs": [
    {
     "name": "stdout",
     "output_type": "stream",
     "text": [
      "[[  34  252  276 ...    0    0    0]\n",
      " [2048 4096 4096 ...    0    0    0]\n",
      " [   7    0   20 ...    0    0    0]\n",
      " ...\n",
      " [4096 4096 2048 ...    0    0    0]\n",
      " [  14   14   17 ...    0    0    0]\n",
      " [4096 4096 4096 ...    0    0    0]]\n",
      "(8, 256)\n"
     ]
    }
   ],
   "source": [
    "with open(\"multiBlockHalf16.csv\", \"r\") as file:\n",
    "    errors = pd.read_csv(file, header = None)\n",
    "    errors.pop(258)\n",
    "    errors.pop(257)\n",
    "    errors.pop(0)\n",
    "    errors = np.array(errors)\n",
    "print(errors)\n",
    "print(errors.shape)"
   ]
  },
  {
   "cell_type": "code",
   "execution_count": 9,
   "id": "1fa4c108",
   "metadata": {},
   "outputs": [
    {
     "name": "stdout",
     "output_type": "stream",
     "text": [
      "[[2014. 3844. 3820. ...    0.    0.    0.]\n",
      " [4089. 2048. 4076. ...    0.    0.    0.]\n",
      " [4088. 4086. 2047. ...    0.    0.    0.]\n",
      " [4082. 4082. 4079. ...    0.    0.    0.]]\n",
      "(4, 256)\n"
     ]
    }
   ],
   "source": [
    "flips = np.zeros((4, 256))\n",
    "ind = 0\n",
    "for i in range(0, errors.shape[0], 2):\n",
    "    flips[ind] = errors[i+1]-errors[i]\n",
    "    ind += 1\n",
    "print(flips)\n",
    "print(flips.shape)"
   ]
  },
  {
   "cell_type": "code",
   "execution_count": 17,
   "id": "d130b337",
   "metadata": {},
   "outputs": [],
   "source": [
    "points10to2048 = []\n",
    "pointsGreater2048 = []\n",
    "for i in range(flips.shape[0]):\n",
    "    for j in range(flips[i].shape[0]):\n",
    "        if flips[i][j] > 2048:\n",
    "            pointsGreater2048.append((i, j))\n",
    "        elif flips[i][j] >= 10:\n",
    "            points10to2048.append((i, j))\n",
    "xless, yless = zip(*points10to2048)\n",
    "xmore, ymore = zip(*pointsGreater2048)"
   ]
  },
  {
   "cell_type": "code",
   "execution_count": 18,
   "id": "a3e9ee15",
   "metadata": {},
   "outputs": [
    {
     "data": {
      "image/png": "[encoded data removed]",
      "text/plain": [
       "<Figure size 720x720 with 1 Axes>"
      ]
     },
     "metadata": {
      "needs_background": "light"
     },
     "output_type": "display_data"
    }
   ],
   "source": [
    "plt.figure(figsize = (10, 10))\n",
    "plt.scatter(xmore, ymore, color = 'red')\n",
    "plt.scatter(xless, yless, color = 'blue')\n",
    "plt.xlabel(\"Hammered page Index\")\n",
    "plt.ylabel(\"Index of Page with Induced Flip\")\n",
    "plt.title(\"Hammering half the page\")\n",
    "plt.show()"
   ]
  },
  {
   "cell_type": "code",
   "execution_count": null,
   "id": "5bfc2262",
   "metadata": {},
   "outputs": [],
   "source": []
  }
 ],
 "metadata": {
  "kernelspec": {
   "display_name": "Python 3 (ipykernel)",
   "language": "python",
   "name": "python3"
  },
  "language_info": {
   "codemirror_mode": {
    "name": "ipython",
    "version": 3
   },
   "file_extension": ".py",
   "mimetype": "text/x-python",
   "name": "python",
   "nbconvert_exporter": "python",
   "pygments_lexer": "ipython3",
   "version": "3.9.12"
  }
 },
 "nbformat": 4,
 "nbformat_minor": 5
}
