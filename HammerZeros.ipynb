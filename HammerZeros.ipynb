{
 "cells": [
  {
   "cell_type": "code",
   "execution_count": 1,
   "id": "2543b369",
   "metadata": {},
   "outputs": [],
   "source": [
    "import numpy as np\n",
    "import pandas as pd\n",
    "import csv\n",
    "import matplotlib.pyplot as plt"
   ]
  },
  {
   "cell_type": "code",
   "execution_count": 8,
   "id": "917df937",
   "metadata": {},
   "outputs": [
    {
     "name": "stdout",
     "output_type": "stream",
     "text": [
      "[[   0    0    0 ...    0    0    0]\n",
      " [   0 4096 4096 ...    0    0    0]\n",
      " [   0    0    0 ...    0    0    0]\n",
      " ...\n",
      " [ 106   86  104 ...    0    0    0]\n",
      " [4096 4096 4096 ... 4096 4096 4096]\n",
      " [4096 4096 4096 ... 4096 4096 4096]]\n",
      "(32, 256)\n"
     ]
    }
   ],
   "source": [
    "with open(\"hammerZeros16.csv\", \"r\") as file:\n",
    "    labels = pd.read_csv(\"hammerZeros16.csv\", header = None)\n",
    "    labels.pop(258)\n",
    "    labels.pop(257)\n",
    "    labels.pop(0)\n",
    "    labels = np.array(labels)\n",
    "print(labels)\n",
    "print(labels.shape)"
   ]
  },
  {
   "cell_type": "code",
   "execution_count": 10,
   "id": "56e9b378",
   "metadata": {},
   "outputs": [
    {
     "name": "stdout",
     "output_type": "stream",
     "text": [
      "[[   0. 4096. 4096. ...    0.    0.    0.]\n",
      " [4096.    0. 4096. ...    0.    0.    0.]\n",
      " [4096. 4096.    0. ...    0.    0.    0.]\n",
      " ...\n",
      " [ 112.  108.  100. ...    0.    0.    0.]\n",
      " [ 106.   86.  104. ...    0.    0.    0.]\n",
      " [   0.    0.    0. ...    0.    0.    0.]]\n",
      "(16, 256)\n"
     ]
    }
   ],
   "source": [
    "errors = np.zeros((16, 256))\n",
    "ind = 0\n",
    "for i in range(0, labels.shape[0], 2):\n",
    "    errors[ind] = labels[i+1]-labels[i]\n",
    "    ind += 1\n",
    "print(errors)\n",
    "print(errors.shape)"
   ]
  },
  {
   "cell_type": "code",
   "execution_count": 53,
   "id": "2c1f08c5",
   "metadata": {},
   "outputs": [
    {
     "data": {
      "text/plain": [
       "<matplotlib.collections.PathCollection at 0x233b1ee3670>"
      ]
     },
     "execution_count": 53,
     "metadata": {},
     "output_type": "execute_result"
    },
    {
     "data": {
      "image/png": "[encoded data removed]",
      "text/plain": [
       "<Figure size 432x288 with 1 Axes>"
      ]
     },
     "metadata": {
      "needs_background": "light"
     },
     "output_type": "display_data"
    }
   ],
   "source": [
    "pointsLess10 = []\n",
    "pointsTenTo500 = []\n",
    "pointsGreaterThan500 = []\n",
    "for i in range(errors.shape[0]):\n",
    "    for j in range(errors[i].shape[0]):\n",
    "        if errors[i][j] >=1 and errors[i][j] < 10:\n",
    "            pointsLess10.append((i, j))\n",
    "        elif errors[i][j] >= 10 and errors[i][j] < 500:\n",
    "            pointsTenTo500.append((i, j))\n",
    "        elif errors[i][j] >= 500:\n",
    "            pointsGreaterThan500.append((i, j))\n",
    "#print(pointsList)\n",
    "#x, y = zip(*pointsList)\n",
    "#xsmall, ysmall = zip(*pointsLess10)\n",
    "xless, yless = zip(*pointsTenTo500)\n",
    "xmore, ymore = zip(*pointsGreaterThan500)\n",
    "#plt.scatter(xsmall, ysmall, color = 'green')\n",
    "plt.scatter(xless, yless, color = 'blue')\n",
    "plt.scatter(xmore, ymore, color = 'red')\n",
    "#plt.title(\"Page with Induced Flip vs. Hammered Page\")\n",
    "#plt.xlabel(\"Hammered Page Index\")\n",
    "#plt.ylabel(\"Page with Induced Flip Index\")\n",
    "#plt.show()"
   ]
  },
  {
   "cell_type": "code",
   "execution_count": 43,
   "id": "0e9c7f16",
   "metadata": {},
   "outputs": [
    {
     "name": "stdout",
     "output_type": "stream",
     "text": [
      "[[0 0 0 ... 0 0 0]\n",
      " [0 0 0 ... 0 0 0]\n",
      " [0 0 0 ... 0 0 0]\n",
      " ...\n",
      " [0 0 0 ... 0 7 0]\n",
      " [0 0 0 ... 0 0 0]\n",
      " [0 0 0 ... 0 0 2]]\n",
      "(32, 256)\n"
     ]
    }
   ],
   "source": [
    "with open(\"hammerZeros16_31.csv\", \"r\") as file:\n",
    "    labels16_31 = pd.read_csv(\"hammerZeros16_31.csv\", header = None)\n",
    "    labels16_31.pop(258)\n",
    "    labels16_31.pop(257)\n",
    "    labels16_31.pop(0)\n",
    "    labels16_31 = np.array(labels16_31)\n",
    "print(labels16_31)\n",
    "print(labels16_31.shape)"
   ]
  },
  {
   "cell_type": "code",
   "execution_count": 44,
   "id": "9f79deea",
   "metadata": {},
   "outputs": [
    {
     "name": "stdout",
     "output_type": "stream",
     "text": [
      "[[0. 0. 0. ... 0. 0. 0.]\n",
      " [0. 0. 0. ... 0. 0. 0.]\n",
      " [0. 0. 0. ... 0. 0. 0.]\n",
      " ...\n",
      " [0. 0. 0. ... 3. 0. 0.]\n",
      " [0. 0. 0. ... 0. 7. 0.]\n",
      " [0. 0. 0. ... 0. 0. 2.]]\n",
      "(16, 256)\n"
     ]
    }
   ],
   "source": [
    "errors16_31 = np.zeros((16, 256))\n",
    "ind = 0\n",
    "for i in range(0, labels16_31.shape[0], 2):\n",
    "    errors16_31[ind] = labels16_31[i+1]-labels16_31[i]\n",
    "    ind += 1\n",
    "print(errors16_31)\n",
    "print(errors16_31.shape)"
   ]
  },
  {
   "cell_type": "code",
   "execution_count": 57,
   "id": "a357334f",
   "metadata": {},
   "outputs": [
    {
     "data": {
      "image/png": "[encoded data removed]",
      "text/plain": [
       "<Figure size 720x720 with 1 Axes>"
      ]
     },
     "metadata": {
      "needs_background": "light"
     },
     "output_type": "display_data"
    }
   ],
   "source": [
    "plt.figure(figsize = (10, 10))\n",
    "pointsLess10 = []\n",
    "pointsTenTo500 = []\n",
    "pointsGreaterThan500 = []\n",
    "for i in range(errors.shape[0]):\n",
    "    for j in range(errors[i].shape[0]):\n",
    "        if errors[i][j] >=1 and errors[i][j] < 10:\n",
    "            pointsLess10.append((i, j))\n",
    "        elif errors[i][j] >= 10 and errors[i][j] < 500:\n",
    "            pointsTenTo500.append((i, j))\n",
    "        elif errors[i][j] >= 500:\n",
    "            pointsGreaterThan500.append((i, j))\n",
    "#print(pointsList)\n",
    "#x, y = zip(*pointsList)\n",
    "#xsmall, ysmall = zip(*pointsLess10)\n",
    "xless, yless = zip(*pointsTenTo500)\n",
    "xmore, ymore = zip(*pointsGreaterThan500)\n",
    "#plt.scatter(xsmall, ysmall, color = 'green')\n",
    "plt.scatter(xless, yless, color = 'blue')\n",
    "plt.scatter(xmore, ymore, color = 'red')\n",
    "pointsLess10_16_31 = []\n",
    "pointsTenTo500_16_31 = []\n",
    "pointsGreaterThan500_16_31 = []\n",
    "for i in range(errors16_31.shape[0]):\n",
    "    for j in range(errors16_31[i].shape[0]):\n",
    "        if errors16_31[i][j] >=1 and errors16_31[i][j] < 10:\n",
    "            pointsLess10_16_31.append((i+16, j))\n",
    "        elif errors16_31[i][j] >= 10 and errors16_31[i][j] < 500:\n",
    "            pointsTenTo500_16_31.append((i+16, j))\n",
    "        elif errors16_31[i][j] >= 500:\n",
    "            pointsGreaterThan500_16_31.append((i+16, j))\n",
    "#print(pointsList)\n",
    "x, y = zip(*pointsList)\n",
    "#xsmall, ysmall = zip(*pointsLess10_16_31)\n",
    "xless_16_31, yless_16_31 = zip(*pointsTenTo500_16_31)\n",
    "xmore_16_31, ymore_16_31 = zip(*pointsGreaterThan500_16_31)\n",
    "#plt.scatter(xsmall, ysmall, color = 'green')\n",
    "plt.scatter(xless_16_31, yless_16_31, color = 'blue')\n",
    "plt.scatter(xmore_16_31, ymore_16_31, color = 'red')\n",
    "plt.title(\"Page with Induced Flip vs. Hammered Page\")\n",
    "plt.xlabel(\"Hammered Page Index\")\n",
    "plt.ylabel(\"Page with Induced Flip Index\")\n",
    "plt.show()"
   ]
  },
  {
   "cell_type": "code",
   "execution_count": null,
   "id": "b84e99a0",
   "metadata": {},
   "outputs": [],
   "source": []
  }
 ],
 "metadata": {
  "kernelspec": {
   "display_name": "Python 3 (ipykernel)",
   "language": "python",
   "name": "python3"
  },
  "language_info": {
   "codemirror_mode": {
    "name": "ipython",
    "version": 3
   },
   "file_extension": ".py",
   "mimetype": "text/x-python",
   "name": "python",
   "nbconvert_exporter": "python",
   "pygments_lexer": "ipython3",
   "version": "3.9.12"
  }
 },
 "nbformat": 4,
 "nbformat_minor": 5
}
