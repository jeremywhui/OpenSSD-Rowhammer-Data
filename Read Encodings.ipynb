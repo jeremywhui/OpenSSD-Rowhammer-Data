{
 "cells": [
  {
   "cell_type": "code",
   "execution_count": 2,
   "id": "15ad7548",
   "metadata": {},
   "outputs": [],
   "source": [
    "import numpy as np\n",
    "import pandas as pd"
   ]
  },
  {
   "cell_type": "code",
   "execution_count": 24,
   "id": "aa294d58",
   "metadata": {},
   "outputs": [
    {
     "name": "stdout",
     "output_type": "stream",
     "text": [
      "[[4.2949673e+09 4.2949673e+09 4.2949673e+09 ... 4.2949673e+09\n",
      "  4.2949673e+09 4.2949673e+09]\n",
      " [4.2949673e+09 4.2949673e+09 4.2949673e+09 ... 4.2949673e+09\n",
      "  4.2949673e+09 4.2949673e+09]\n",
      " [4.2949673e+09 4.2949673e+09 4.2949673e+09 ... 4.2949673e+09\n",
      "  4.2949673e+09 4.2949673e+09]\n",
      " ...\n",
      " [4.2949673e+09 4.2949673e+09 4.2949673e+09 ... 4.2949673e+09\n",
      "  4.2949673e+09 4.2949673e+09]\n",
      " [4.2949673e+09 4.2949673e+09 4.2949673e+09 ... 4.2949673e+09\n",
      "  4.2949673e+09 4.2949673e+09]\n",
      " [4.2949673e+09 4.2949673e+09 4.2949673e+09 ... 4.2949673e+09\n",
      "            nan           nan]]\n",
      "(465, 10)\n"
     ]
    }
   ],
   "source": [
    "with open(\"allones.csv\", \"r\") as file:\n",
    "    allones = pd.read_csv(file, header = None)\n",
    "    allones.pop(10)\n",
    "    allones = np.array(allones)\n",
    "print(allones)\n",
    "print(allones.shape)"
   ]
  },
  {
   "cell_type": "code",
   "execution_count": 25,
   "id": "01f11d71",
   "metadata": {},
   "outputs": [
    {
     "name": "stdout",
     "output_type": "stream",
     "text": [
      "[4.2949673e+09 4.2949673e+09 4.2949673e+09 ... 4.2949673e+09           nan\n",
      "           nan]\n",
      "(4650,)\n"
     ]
    }
   ],
   "source": [
    "allones = allones.flatten()\n",
    "print(allones)\n",
    "print(allones.shape)"
   ]
  },
  {
   "cell_type": "code",
   "execution_count": 26,
   "id": "7dd01a98",
   "metadata": {},
   "outputs": [
    {
     "name": "stdout",
     "output_type": "stream",
     "text": [
      "4648\n"
     ]
    }
   ],
   "source": [
    "allones = list(allones)\n",
    "allones.pop()\n",
    "allones.pop()\n",
    "print(len(allones))"
   ]
  },
  {
   "cell_type": "code",
   "execution_count": 27,
   "id": "3e860e5d",
   "metadata": {},
   "outputs": [
    {
     "name": "stdout",
     "output_type": "stream",
     "text": [
      "(4648,)\n"
     ]
    }
   ],
   "source": [
    "allones = np.array(allones)\n",
    "print(allones.shape)"
   ]
  },
  {
   "cell_type": "code",
   "execution_count": 33,
   "id": "653d38d8",
   "metadata": {},
   "outputs": [
    {
     "name": "stdout",
     "output_type": "stream",
     "text": [
      "4294967295.0\n",
      "(4283,)\n"
     ]
    }
   ],
   "source": [
    "print(np.max(allones))\n",
    "print(np.array(np.where(allones == 4294967295)).flatten().shape)\n"
   ]
  },
  {
   "cell_type": "code",
   "execution_count": 35,
   "id": "5d5c97cd",
   "metadata": {},
   "outputs": [
    {
     "name": "stdout",
     "output_type": "stream",
     "text": [
      "[[2147483647 4294967295 4294967295 ... 4294967295 ' 4294967295'\n",
      "  4294967295.0]\n",
      " [4294967295 4294967295 4294967295 ... 4294967295 ' 4294967295'\n",
      "  4294967295.0]\n",
      " [4294967295 4294967295 4294967295 ... 4294967295 ' 4294967295'\n",
      "  4294967295.0]\n",
      " ...\n",
      " [4294967295 4294967295 4294967295 ... 4294967295 ' 4294967295'\n",
      "  4294967295.0]\n",
      " [4294967295 4294967295 4294967295 ... 4294967295 ' 4294967295'\n",
      "  4294967295.0]\n",
      " [4294967295 4294967295 4294967295 ... 4294967295 ' ' nan]]\n",
      "(465, 10)\n"
     ]
    }
   ],
   "source": [
    "with open(\"p5.csv\", \"r\") as file:\n",
    "    p5 = pd.read_csv(file, header = None)\n",
    "    p5.pop(10)\n",
    "    p5 = np.array(p5)\n",
    "print(p5)\n",
    "print(p5.shape)"
   ]
  },
  {
   "cell_type": "code",
   "execution_count": 36,
   "id": "bfc5885e",
   "metadata": {},
   "outputs": [
    {
     "name": "stdout",
     "output_type": "stream",
     "text": [
      "[2147483647 4294967295 4294967295 ... 4294967295 ' ' nan]\n",
      "(4650,)\n"
     ]
    }
   ],
   "source": [
    "p5 = p5.flatten()\n",
    "print(p5)\n",
    "print(p5.shape)"
   ]
  },
  {
   "cell_type": "code",
   "execution_count": 37,
   "id": "dd34ebfc",
   "metadata": {},
   "outputs": [],
   "source": [
    "p5 = list(p5)\n",
    "p5.pop()\n",
    "p5.pop()\n",
    "p5 = np.array(p5)"
   ]
  },
  {
   "cell_type": "code",
   "execution_count": 38,
   "id": "fe58166b",
   "metadata": {},
   "outputs": [
    {
     "name": "stdout",
     "output_type": "stream",
     "text": [
      "['2147483647' '4294967295' '4294967295' ... '4294967295' '4294967295'\n",
      " '4294967295']\n",
      "(4648,)\n"
     ]
    }
   ],
   "source": [
    "print(p5)\n",
    "print(p5.shape)"
   ]
  },
  {
   "cell_type": "code",
   "execution_count": 45,
   "id": "d4e7a438",
   "metadata": {},
   "outputs": [
    {
     "name": "stdout",
     "output_type": "stream",
     "text": [
      "[2.14748365e+09 0.00000000e+00 0.00000000e+00 ... 0.00000000e+00\n",
      " 0.00000000e+00 0.00000000e+00]\n"
     ]
    }
   ],
   "source": [
    "diff = allones-p5.astype('float64')\n",
    "print(diff)"
   ]
  },
  {
   "cell_type": "code",
   "execution_count": 46,
   "id": "e1ed87af",
   "metadata": {},
   "outputs": [
    {
     "name": "stdout",
     "output_type": "stream",
     "text": [
      "(array([   0,  128,  129,  130,  131,  132,  133,  134,  135,  136,  137,\n",
      "        138, 4494, 4495, 4496, 4497, 4498, 4499, 4500, 4501, 4502, 4503,\n",
      "       4504, 4505, 4506], dtype=int64),)\n"
     ]
    }
   ],
   "source": [
    "print(np.where(diff != 0))"
   ]
  },
  {
   "cell_type": "code",
   "execution_count": 47,
   "id": "3ac64bb6",
   "metadata": {},
   "outputs": [
    {
     "name": "stdout",
     "output_type": "stream",
     "text": [
      "1414805817.0\n",
      " 928254265\n"
     ]
    }
   ],
   "source": [
    "print(allones[128])\n",
    "print(p5[128])"
   ]
  },
  {
   "cell_type": "code",
   "execution_count": 50,
   "id": "d6e3eec8",
   "metadata": {},
   "outputs": [
    {
     "name": "stdout",
     "output_type": "stream",
     "text": [
      "0b1010100010101000011100100111001\n"
     ]
    }
   ],
   "source": [
    "print(bin(int(allones[128])))"
   ]
  },
  {
   "cell_type": "code",
   "execution_count": 51,
   "id": "7a619f0a",
   "metadata": {},
   "outputs": [
    {
     "name": "stdout",
     "output_type": "stream",
     "text": [
      "0b11111111111111111111111111111111\n",
      "0b1111111111111111111111111111111\n"
     ]
    }
   ],
   "source": [
    "print(bin(int(allones[0])))\n",
    "print(bin(int(p5[0])))"
   ]
  },
  {
   "cell_type": "code",
   "execution_count": 57,
   "id": "23cfebd8",
   "metadata": {},
   "outputs": [
    {
     "name": "stdout",
     "output_type": "stream",
     "text": [
      "01111111111111111111111111111111\n"
     ]
    }
   ],
   "source": [
    "number = int(p5[0])\n",
    "str = f'{number:032b}'\n",
    "print(str)"
   ]
  },
  {
   "cell_type": "code",
   "execution_count": 66,
   "id": "5f2b43a8",
   "metadata": {},
   "outputs": [
    {
     "name": "stdout",
     "output_type": "stream",
     "text": [
      "2147483647\n",
      "0b00000000000000000000000000000001111111111111111111111111111111\n"
     ]
    }
   ],
   "source": [
    "number = int(p5[0])\n",
    "print(number)\n",
    "numstr = format(number, '#064b')\n",
    "print(numstr)"
   ]
  },
  {
   "cell_type": "code",
   "execution_count": null,
   "id": "b745c050",
   "metadata": {},
   "outputs": [],
   "source": []
  }
 ],
 "metadata": {
  "kernelspec": {
   "display_name": "Python 3 (ipykernel)",
   "language": "python",
   "name": "python3"
  },
  "language_info": {
   "codemirror_mode": {
    "name": "ipython",
    "version": 3
   },
   "file_extension": ".py",
   "mimetype": "text/x-python",
   "name": "python",
   "nbconvert_exporter": "python",
   "pygments_lexer": "ipython3",
   "version": "3.9.12"
  }
 },
 "nbformat": 4,
 "nbformat_minor": 5
}
